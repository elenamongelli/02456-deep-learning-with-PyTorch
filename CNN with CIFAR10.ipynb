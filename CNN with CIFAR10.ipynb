{
  "nbformat": 4,
  "nbformat_minor": 0,
  "metadata": {
    "accelerator": "GPU",
    "colab": {
      "name": "Copy of 930035972888365.ipynb",
      "provenance": [],
      "include_colab_link": true
    },
    "kernelspec": {
      "display_name": "Python 3",
      "language": "python",
      "name": "python3"
    },
    "language_info": {
      "codemirror_mode": {
        "name": "ipython",
        "version": 3
      },
      "file_extension": ".py",
      "mimetype": "text/x-python",
      "name": "python",
      "nbconvert_exporter": "python",
      "pygments_lexer": "ipython3",
      "version": "3.8.3"
    }
  },
  "cells": [
    {
      "cell_type": "markdown",
      "metadata": {
        "id": "view-in-github",
        "colab_type": "text"
      },
      "source": [
        "<a href=\"https://colab.research.google.com/github/elenamongelli/02456-deep-learning-with-PyTorch/blob/master/CNN%20with%20CIFAR10.ipynb\" target=\"_parent\"><img src=\"https://colab.research.google.com/assets/colab-badge.svg\" alt=\"Open In Colab\"/></a>"
      ]
    },
    {
      "cell_type": "markdown",
      "metadata": {
        "id": "bu1Wy6Xb81Sn"
      },
      "source": [
        "# Credits\n",
        "\n",
        "This is heavily influenced from https://github.com/pytorch/tutorials"
      ]
    },
    {
      "cell_type": "markdown",
      "metadata": {
        "id": "oZW0gaQO81Sq"
      },
      "source": [
        "# CIFAR-10\n",
        "\n",
        "In thins notebook you need to put what you have learned into practice, and create your own convolutional classifier for the CIFAR-10 dataset.\n",
        "\n",
        "It has the classes: ‘airplane’, ‘automobile’, ‘bird’, ‘cat’, ‘deer’, ‘dog’, ‘frog’, ‘horse’, ‘ship’, ‘truck’.\n",
        "The images in CIFAR-10 are of size 3x32x32, i.e. 3-channel color images of 32x32 pixels in size.\n",
        "\n",
        "![cifar10](https://github.com/DeepLearningDTU/02456-deep-learning-with-PyTorch/blob/master/static_files/cifar10.png?raw=1)\n",
        "\n",
        "\n",
        "In order to train a classifier the following steps needs to be performed:\n",
        "\n",
        "1. Load and normalizing the CIFAR10 training and test datasets using\n",
        "   ``torchvision``\n",
        "2. Define a Convolutional Neural Network\n",
        "3. Define a loss function\n",
        "4. Train the network on the training data\n",
        "5. Test the network on the test data\n",
        "\n",
        "We will help you along the way.\n",
        "We indicate the places you need to modify the code with `# Your code here!`.\n",
        "It is however a good idea to read the entire assignment before you begin coding!"
      ]
    },
    {
      "cell_type": "markdown",
      "metadata": {
        "id": "htyg7xxN81St"
      },
      "source": [
        "## 1. Loading and normalizing CIFAR10\n",
        "\n",
        "Using ``torchvision``, it’s extremely easy to load CIFAR10."
      ]
    },
    {
      "cell_type": "code",
      "metadata": {
        "id": "v3u2GIWr81Su"
      },
      "source": [
        "%matplotlib inline\n",
        "import matplotlib.pyplot as plt\n",
        "import numpy as np\n",
        "\n",
        "import torch\n",
        "import torchvision\n",
        "import torchvision.transforms as transforms"
      ],
      "execution_count": 2,
      "outputs": []
    },
    {
      "cell_type": "markdown",
      "metadata": {
        "id": "xx5SHRkm81S0"
      },
      "source": [
        "The output of torchvision datasets are PILImage images of range [0, 1].\n",
        "We transform them to Tensors of normalized range [-1, 1]\n",
        "\n",
        "**NB** Modify the code below to only use a small part of the dataset if your computer is very slow."
      ]
    },
    {
      "cell_type": "code",
      "metadata": {
        "colab": {
          "base_uri": "https://localhost:8080/"
        },
        "id": "QZeTujLC81S3",
        "outputId": "38e6c7b9-450b-4b29-b542-269b8e096088"
      },
      "source": [
        "transform = transforms.Compose(\n",
        "    [transforms.ToTensor(),\n",
        "     transforms.Normalize((0.5, 0.5, 0.5),(0.5, 0.5, 0.5)), transforms.ColorJitter(brightness=3)\n",
        "    ]\n",
        ")\n",
        "\n",
        "# Load dataset\n",
        "trainset = torchvision.datasets.CIFAR10(root='./data', train=True,\n",
        "                                        download=True, transform=transform)\n",
        "testset = torchvision.datasets.CIFAR10(root='./data', train=False,\n",
        "                                       download=True, transform=transform)\n",
        "\n",
        "classes = ('plane', 'car', 'bird', 'cat', 'deer',\n",
        "           'dog', 'frog', 'horse', 'ship', 'truck')\n",
        "\n",
        "used_categories = range(len(classes))\n",
        "\n",
        "## USE CODE BELOW IF YOUR COMPUTER IS TOO SLOW\n",
        "reduce_dataset = False\n",
        "if reduce_dataset:\n",
        "    used_categories = (0,1,2,3,4,5,6,7,8,9) # cats and dogs\n",
        "\n",
        "    classes = [classes[i] for i in used_categories]\n",
        "    new_train_data = []\n",
        "    new_train_labels = []\n",
        "\n",
        "    new_test_data = []\n",
        "    new_test_labels = []\n",
        "    for i, t in enumerate(used_categories):\n",
        "        new_train_data.append(trainset.data[np.where(np.array(trainset.targets) == t)])\n",
        "        new_train_labels += [i for _ in range(new_train_data[-1].shape[0])]\n",
        "\n",
        "        new_test_data.append(testset.data[np.where(np.array(testset.targets) == t)])\n",
        "        new_test_labels += [i for _ in range(new_test_data[-1].shape[0])]\n",
        "\n",
        "    new_train_data = np.concatenate(new_train_data, 0)\n",
        "    trainset.data = new_train_data\n",
        "    trainset.targets = new_train_labels\n",
        "\n",
        "    new_test_data = np.concatenate(new_test_data, 0)\n",
        "    testset.data = new_test_data\n",
        "    testset.targets = new_test_labels\n",
        "\n",
        "    \n",
        "trainloader = torch.utils.data.DataLoader(trainset, batch_size=10,\n",
        "                                          shuffle=True, num_workers=2)\n",
        "testloader = torch.utils.data.DataLoader(testset, batch_size=10,\n",
        "                                         shuffle=True, num_workers=2)\n",
        "train_data_iter = iter(trainloader)\n",
        "test_data_iter = iter(testloader)\n",
        "print('used classes:', classes)"
      ],
      "execution_count": 24,
      "outputs": [
        {
          "output_type": "stream",
          "name": "stdout",
          "text": [
            "Files already downloaded and verified\n",
            "Files already downloaded and verified\n",
            "used classes: ('plane', 'car', 'bird', 'cat', 'deer', 'dog', 'frog', 'horse', 'ship', 'truck')\n"
          ]
        }
      ]
    },
    {
      "cell_type": "code",
      "metadata": {
        "colab": {
          "base_uri": "https://localhost:8080/"
        },
        "id": "JDHkc52L81S9",
        "outputId": "20db2517-1569-4c92-ad94-cc13bd3df334"
      },
      "source": [
        "print(\"# Training data\")\n",
        "print(\"Number of points:\", len(trainset))\n",
        "x, y = next(iter(trainloader))\n",
        "print(\"Batch dimension [B x C x H x W]:\", x.shape)\n",
        "print(\"Number of distinct labels:\", len(set(trainset.targets)))\n",
        "\n",
        "\n",
        "print(\"\\n# Test data\")\n",
        "print(\"Number of points:\", len(testset))\n",
        "x, y = next(iter(testloader))\n",
        "print(\"Batch dimension [B x C x H x W]:\", x.shape)\n",
        "print(\"Number of distinct labels:\", len(set(testset.targets)))"
      ],
      "execution_count": 4,
      "outputs": [
        {
          "output_type": "stream",
          "name": "stdout",
          "text": [
            "# Training data\n",
            "Number of points: 50000\n",
            "Batch dimension [B x C x H x W]: torch.Size([4, 3, 32, 32])\n",
            "Number of distinct labels: 10\n",
            "\n",
            "# Test data\n",
            "Number of points: 10000\n",
            "Batch dimension [B x C x H x W]: torch.Size([4, 3, 32, 32])\n",
            "Number of distinct labels: 10\n"
          ]
        }
      ]
    },
    {
      "cell_type": "markdown",
      "metadata": {
        "id": "xSA1h94681TB"
      },
      "source": [
        "Let us show some of the training images, for fun.\n",
        "\n"
      ]
    },
    {
      "cell_type": "code",
      "metadata": {
        "colab": {
          "base_uri": "https://localhost:8080/",
          "height": 154
        },
        "id": "njJy0klP81TD",
        "outputId": "c76da1de-1cbf-4cc9-8247-d3a4937b3316"
      },
      "source": [
        "# Run this cell multiple time to see more samples\n",
        "\n",
        "def imshow(img):\n",
        "    \"\"\" show an image \"\"\"\n",
        "    img = img / 2 + 0.5 # unnormalize\n",
        "    npimg = img.numpy()\n",
        "    plt.imshow(np.transpose(npimg, (1, 2, 0)))\n",
        "\n",
        "\n",
        "# get some random training images\n",
        "images, labels = train_data_iter.next()\n",
        "\n",
        "# show images\n",
        "imshow(torchvision.utils.make_grid(images))\n",
        "\n",
        "# print labels\n",
        "print(' '.join('%5s' % classes[labels[j]] for j in range(7)))"
      ],
      "execution_count": 26,
      "outputs": [
        {
          "output_type": "stream",
          "name": "stdout",
          "text": [
            "truck  bird horse horse  frog  frog   car\n"
          ]
        },
        {
          "output_type": "display_data",
          "data": {
            "image/png": "[encoded data removed]",
            "text/plain": [
              "<Figure size 432x288 with 1 Axes>"
            ]
          },
          "metadata": {
            "needs_background": "light"
          }
        }
      ]
    },
    {
      "cell_type": "markdown",
      "metadata": {
        "id": "Wt3BVFMF81TI"
      },
      "source": [
        "## 2. Define a Convolutional Neural Network\n",
        "\n",
        "**Assignment 1:** Define a convolutional neural network. \n",
        "You may use the code from previous notebooks.\n",
        "We suggest that you start with a small network, and make sure that everything is working.\n",
        "Once you can train successfully come back and improve the architecture"
      ]
    },
    {
      "cell_type": "code",
      "metadata": {
        "colab": {
          "base_uri": "https://localhost:8080/"
        },
        "id": "_EsKbw3o81TK",
        "outputId": "aabb43ef-f5ee-497b-dfee-087d77c8b7ac"
      },
      "source": [
        "from torch.autograd import Variable\n",
        "import torch.nn as nn\n",
        "import torch.nn.functional as F\n",
        "\n",
        "class Net(nn.Module):\n",
        "    def __init__(self, num_classes):\n",
        "        super(Net, self).__init__()\n",
        "        self.num_classes = num_classes\n",
        "\n",
        "        # Convolutional layer \n",
        "        self.conv1 = nn.Conv2d(in_channels=3,out_channels= 16,kernel_size=5) #,padding=1)\n",
        "        self.pool = nn.MaxPool2d(2, 2)\n",
        "        self.conv2 = nn.Conv2d(in_channels=16, out_channels=32,kernel_size=5)   #,padding=1)\n",
        "       \n",
        "\n",
        "        # Tried adding an extra leyer, with kernel size 3 (and changed kernel size 3 for cll 1 and 2 - but only got 65% accuracy )\n",
        "        #self.conv3 = nn.Conv2d(in_channels=32, out_channels=64,kernel_size=3)\n",
        "\n",
        "        # Fully connected layer \n",
        "        #self.fcl1 = nn.Linear(in_features=(32),out_features=64) # If i add a third convolutional layer with kernel size 3\n",
        "        self.fcl1 = nn.Linear(in_features=32*5*5,out_features=128) # Without the third convolutional layer     \n",
        "        self.fcl2 = nn.Linear(in_features=128,out_features= 258)\n",
        "        self.fcl3 = nn.Linear(in_features=258,out_features= 512)\n",
        "        self.fcl4 = nn.Linear(in_features=512,out_features= num_classes)\n",
        "        # General use\n",
        "        #self.dropout = torch.nn.Dropout(0.25)\n",
        "        #self.batchnorm1 = torch.nn.BatchNorm2d(16)\n",
        "        #self.batchnorm2 = torch.nn.BatchNorm1d(16)\n",
        "\n",
        "    def forward(self, x):\n",
        "\n",
        "        # Convlution layer \n",
        "        #x = self.pool(self.batchnorm1(F.elu(self.conv1(x))))\n",
        "        #print(\"Batch dimension [B x C x H x W]:\", x.shape)\n",
        "        \n",
        "        x = self.pool(F.elu(self.conv1(x)))\n",
        "        #print(\"Batch dimension [B x C x H x W]:\", x.shape)\n",
        "        #x = self.dropout(x)\n",
        "        x = self.pool(F.elu(self.conv2(x)))\n",
        "    \n",
        "  \n",
        "        #x = self.pool(F.elu(self.conv3(x)))\n",
        "        #print(\"Batch dimension [B x C x H x W]:\", x.shape)\n",
        "\n",
        "        # Flatten \n",
        "        #x = x.view(-1, 64*2*2) # Works same as flatten, but that is more simple to use\n",
        "        x = torch.flatten(x, 1) # For flatten, except batch \n",
        "         \n",
        "        #print(\"Batch dimension [B x C x H x W]:\", x.shape)\n",
        "        #print(\"New turn\")\n",
        "        # Fully connected layer \n",
        "        x = F.relu(self.fcl1(x))\n",
        "        x = F.relu(self.fcl2(x))\n",
        "        x = F.relu(self.fcl3(x))\n",
        "        x = self.fcl4(x)\n",
        "        \n",
        "        return x\n",
        "    \n",
        "\n",
        "net = Net(len(used_categories))\n",
        "print(net)"
      ],
      "execution_count": 6,
      "outputs": [
        {
          "output_type": "stream",
          "name": "stdout",
          "text": [
            "Net(\n",
            "  (conv1): Conv2d(3, 16, kernel_size=(5, 5), stride=(1, 1))\n",
            "  (pool): MaxPool2d(kernel_size=2, stride=2, padding=0, dilation=1, ceil_mode=False)\n",
            "  (conv2): Conv2d(16, 32, kernel_size=(5, 5), stride=(1, 1))\n",
            "  (fcl1): Linear(in_features=800, out_features=128, bias=True)\n",
            "  (fcl2): Linear(in_features=128, out_features=258, bias=True)\n",
            "  (fcl3): Linear(in_features=258, out_features=512, bias=True)\n",
            "  (fcl4): Linear(in_features=512, out_features=10, bias=True)\n",
            ")\n"
          ]
        }
      ]
    },
    {
      "cell_type": "markdown",
      "metadata": {
        "id": "7-IUg3sq81TQ"
      },
      "source": [
        "## 3. Define a Loss function and optimizer\n",
        "\n",
        "**Assignment 2:** Implement the criterion and optimizer. \n",
        "We suggest Classification Cross-Entropy loss and SGD with momentum.\n",
        "You might need to experiment a bit with the learning rate."
      ]
    },
    {
      "cell_type": "code",
      "metadata": {
        "id": "48AX85QP81TR"
      },
      "source": [
        "import torch.optim as optim\n",
        "\n",
        "criterion = nn.CrossEntropyLoss() \n",
        "optimizer = optim.SGD(net.parameters(), lr=0.001, momentum=0.9, weight_decay =0.001)\n",
        "#optimizer = optim.Adam(net.parameters(), lr=0.001, weight_decay =0.01)\n",
        "\n",
        "#device = torch.device(\"cuda:0\" if torch.cuda.is_available() else \"cpu\")    \n",
        "#net = nn.DataParallel(net) if torch.cuda.device_count() > 1 else net\n",
        "#net.to(device)"
      ],
      "execution_count": 8,
      "outputs": []
    },
    {
      "cell_type": "markdown",
      "metadata": {
        "id": "-WneIN7C81TV"
      },
      "source": [
        "## 4. Train the network\n",
        "\n",
        "**Assignment 3:** Finish the training loop below. \n",
        "Start by using a small number of epochs (e.g. 3).\n",
        "Even with a low number of epochs you should be able to see results that are better than chance.\n",
        "When everything is working increase the number of epochs to find out how good your network really is."
      ]
    },
    {
      "cell_type": "code",
      "metadata": {
        "colab": {
          "base_uri": "https://localhost:8080/"
        },
        "id": "NkUanRRb81TW",
        "outputId": "ed41d789-dc36-41b3-f491-2d1867282534"
      },
      "source": [
        "num_epoch = 5  # Your code here!\n",
        "\n",
        "for epoch in range(num_epoch):  # loop over the dataset multiple times\n",
        "\n",
        "    running_loss = 0.0\n",
        "    for i, data in enumerate(trainloader, 0):\n",
        "        # get the inputs\n",
        "        inputs, labels = data\n",
        "        # wrap them in Variable\n",
        "        inputs, labels = Variable(inputs), Variable(labels)\n",
        "\n",
        "        # zero the parameter gradients\n",
        "        optimizer.zero_grad() \n",
        "\n",
        "        # forward + backward + optimize\n",
        "        outputs = net(inputs) # Run image through network \n",
        "        loss = criterion(outputs, labels) \n",
        "\n",
        "        loss.backward() # Backward \n",
        "        optimizer.step()\n",
        "\n",
        "        # print statistics\n",
        "        running_loss += loss.item()\n",
        "        if i % 10000 == 9999:    # print every 1000 mini-batches\n",
        "            print('[%d, %5d] loss: %.3f' %\n",
        "                  (epoch + 1, i + 1, running_loss / 1000))\n",
        "            running_loss = 0.0\n",
        "\n",
        "print('Finished Training')"
      ],
      "execution_count": 19,
      "outputs": [
        {
          "output_type": "stream",
          "name": "stdout",
          "text": [
            "[1, 10000] loss: 18.300\n",
            "[2, 10000] loss: 17.130\n",
            "[3, 10000] loss: 16.775\n",
            "[4, 10000] loss: 16.554\n",
            "[5, 10000] loss: 16.363\n",
            "Finished Training\n"
          ]
        }
      ]
    },
    {
      "cell_type": "markdown",
      "metadata": {
        "id": "0qAsbC8I81Ta"
      },
      "source": [
        "## 5. Test the network on the test data\n",
        "\n",
        "Now we need to check if the network has learnt anything at all.\n",
        "We will check this by predicting the class label that the neural network outputs, and checking it against the ground truth.\n",
        "If the prediction is correct, we add the sample to the list of correct predictions.\n",
        "\n",
        "Okay, first step. Let us display an image from the test set to get familiar."
      ]
    },
    {
      "cell_type": "code",
      "metadata": {
        "colab": {
          "base_uri": "https://localhost:8080/",
          "height": 172
        },
        "id": "7LT0RoAC81Tc",
        "outputId": "1bd14578-1029-4037-c8a0-681775e715a6"
      },
      "source": [
        "images, labels = test_data_iter.next()\n",
        "\n",
        "# print images\n",
        "imshow(torchvision.utils.make_grid(images))\n",
        "plt.show()\n",
        "\n",
        "print('GroundTruth:  ', ' '.join('%5s' % classes[labels[j]] for j in range(4)))\n",
        "\n",
        "outputs = net(images)\n",
        "_, predicted = torch.max(outputs.data, 1)\n",
        "print('Predicted:    ', ' '.join('%5s' % classes[predicted[j]] for j in range(4)))"
      ],
      "execution_count": 11,
      "outputs": [
        {
          "output_type": "display_data",
          "data": {
            "image/png": "[encoded data removed]",
            "text/plain": [
              "<Figure size 432x288 with 1 Axes>"
            ]
          },
          "metadata": {
            "needs_background": "light"
          }
        },
        {
          "output_type": "stream",
          "name": "stdout",
          "text": [
            "GroundTruth:   horse  bird truck horse\n",
            "Predicted:      deer   dog truck  deer\n"
          ]
        }
      ]
    },
    {
      "cell_type": "markdown",
      "metadata": {
        "id": "ISA6LJJO81Tg"
      },
      "source": [
        "Let us look at how the network performs on the whole dataset."
      ]
    },
    {
      "cell_type": "code",
      "metadata": {
        "colab": {
          "base_uri": "https://localhost:8080/"
        },
        "id": "Smv6_BwF81Ti",
        "outputId": "422ea3e9-9385-4c96-d65b-ce457c782096"
      },
      "source": [
        "correct = 0\n",
        "total = 0\n",
        "\n",
        "for data in testloader:\n",
        "    images, labels = data\n",
        "    outputs = net(Variable(images))\n",
        "    _, predicted = torch.max(outputs.data, 1)\n",
        "    total += labels.size(0)\n",
        "    correct += (predicted == labels).sum()\n",
        "\n",
        "print('Accuracy of the network on the {} test images: {:4.2f} %'.format(\n",
        "    testset.data.shape[0], 100 * correct.true_divide(total)))"
      ],
      "execution_count": 12,
      "outputs": [
        {
          "output_type": "stream",
          "name": "stdout",
          "text": [
            "Accuracy of the network on the 10000 test images: 68.15 %\n"
          ]
        }
      ]
    },
    {
      "cell_type": "markdown",
      "metadata": {
        "id": "QMZRvhaW81Tl"
      },
      "source": [
        "Hopefully the network is better than chance, which is $\\frac{1}{\\text{number of classes}}$ accuracy (randomly picking\n",
        "a class).\n",
        "\n",
        "\n",
        "We can also examine which class the network found the most difficult (makes more sense if you have many clases):"
      ]
    },
    {
      "cell_type": "code",
      "metadata": {
        "colab": {
          "base_uri": "https://localhost:8080/"
        },
        "id": "WqVTQgKq81Tl",
        "outputId": "4a0f264b-1819-495f-b293-74925d3001c2"
      },
      "source": [
        "class_total = list(0. for i in range(len(classes)))\n",
        "class_correct = list(0. for i in range(len(classes)))\n",
        "\n",
        "for data in testloader:\n",
        "    images, labels = data\n",
        "    outputs = net(Variable(images))\n",
        "    _, predicted = torch.max(outputs.data, 1)\n",
        "    c = (predicted == labels).squeeze()\n",
        "    \n",
        "    for i in range(len(c)):\n",
        "        label = labels[i]\n",
        "        class_correct[label] += c[i].numpy()\n",
        "        class_total[label] += 1\n",
        "\n",
        "for i in range(len(classes)):\n",
        "    print('Accuracy of {:5s} : {:5.2f} %'.format(\n",
        "        classes[i], 100 * class_correct[i] / class_total[i]))"
      ],
      "execution_count": 13,
      "outputs": [
        {
          "output_type": "stream",
          "name": "stdout",
          "text": [
            "Accuracy of plane : 80.00 %\n",
            "Accuracy of car   : 85.70 %\n",
            "Accuracy of bird  : 59.60 %\n",
            "Accuracy of cat   : 48.10 %\n",
            "Accuracy of deer  : 69.60 %\n",
            "Accuracy of dog   : 53.70 %\n",
            "Accuracy of frog  : 82.70 %\n",
            "Accuracy of horse : 67.80 %\n",
            "Accuracy of ship  : 73.90 %\n",
            "Accuracy of truck : 60.40 %\n"
          ]
        }
      ]
    },
    {
      "cell_type": "markdown",
      "metadata": {
        "id": "ocnQOBAl81Tn"
      },
      "source": [
        "**Assignment 4:** \n",
        "1. Go back and improve performance of the network. \n",
        " * If you are using all 10 classes you should get a test accuracy above 55%, but see how much further you can get it!\n",
        " * If you are using only 2 classes (e.g. cat and dog) you should get a test accuracy above 60%, but see how much further you can get it!\n",
        "\n",
        "2. Briefly describe what you did and any experiments you did along the way as well as what results you obtained.\n",
        "Did anything surprise you during the exercise?\n",
        "\n",
        "**My comments**\n",
        "\n",
        "a. Tried to add more layers and more nodes, which was the most \"effective\".\n",
        "\n",
        "b. Tried to add droupout, which i recall from last week were quite effective, but did not had any big impact on this network (opposite effect) \n",
        "\n",
        "c. different activations function (relu, elu, softmax, etc) was tried - with small differences between the reulsts. \n",
        "\n",
        "d. When something works, try to increase epoch and see if it gets better. \n",
        "\n",
        "e. Use print statements to look at the size. \n",
        "\n",
        "f. Tried adding an extra layer, and change the kernel size - it came to an accuracy around 65% \n",
        "\n",
        "g. For cats and dog: 72\\% but it only took a few minuties to run, compared with the multiple different setup i have tried am I satisfied. \n",
        "\n",
        "h. For all ten categories is it 68% which is fine \n",
        "\n",
        "3. Write down key lessons/insights you got (if any) during this exercise.\n",
        "\n",
        "**My comments**\n",
        "\n",
        "I might learn it someday through my many years of study, but sometimes it better to use some extra time on understanding of what you are doing instead of just trying to put some different commandos and hope it gets good. \n",
        "\n",
        "\n"
      ]
    },
    {
      "cell_type": "markdown",
      "metadata": {
        "id": "8Nzefavy81To"
      },
      "source": [
        "# Training on GPU\n",
        "\n",
        "**Optional Assignment:**\n",
        "If you have a GPU we suggest that you try and rewrite the code above to run on the GPU\n",
        "___\n",
        "\n",
        "Just like how you transfer a Tensor on to the GPU, you transfer the neural net onto the GPU.\n",
        "This will recursively go over all modules and convert their parameters and buffers to CUDA tensors:\n",
        "\n",
        "```\n",
        "    net.cuda()\n",
        "```\n",
        "\n",
        "Remember that you will have to send the inputs and targets at every step to the GPU too:\n",
        "\n",
        "```\n",
        "    inputs, labels = Variable(inputs.cuda()), Variable(labels.cuda())\n",
        "```\n",
        "\n",
        "Why dont I notice MASSIVE speedup compared to CPU? \n",
        "Because your network is realllly small.\n",
        "\n",
        "**Exercise:** Try increasing the width of your network (argument 2 of\n",
        "the first ``nn.Conv2d``, and argument 1 of the second ``nn.Conv2d`` –\n",
        "they need to be the same number), see what kind of speedup you get.\n",
        "\n",
        "**Goals achieved**:\n",
        "\n",
        "- Understanding PyTorch's Tensor library and neural networks at a high level.\n",
        "- Train a small neural network to classify images\n",
        "\n",
        "## Setting up GPU in Colab\n",
        "\n",
        "In Colab, you will get 12 hours of execution time but the session will be disconnected if you are idle for more than 60 minutes. It means that for every 12 hours Disk, RAM, CPU Cache and the Data that is on our allocated virtual machine will get erased.\n",
        "\n",
        "To enable GPU hardware accelerator, just go to **Runtime -> Change runtime type -> Hardware accelerator -> GPU**"
      ]
    },
    {
      "cell_type": "markdown",
      "metadata": {
        "id": "b8mEIylU81Tp"
      },
      "source": [
        "# Michael Nielsen book exercise of own choice\n",
        "\n",
        "**Assignment 5:** Pick an exercise of own choice from [Michael Nielsens book](http://neuralnetworksanddeeplearning.com/)\n",
        "\n",
        "**Answer:**\n",
        "Question from chapter 3: \n",
        "\n",
        "What would go wrong if we used $μ>1$ in the momentum technique?\n",
        "\n",
        "What would go wrong if we used $μ<0$ in the momentum technique?\n",
        "\n",
        "**Answer:**\n",
        "\n",
        "When $μ = 1$ is there no friction in the system $(1-μ=1-1=0)$, and thereby are the velocity driven by the gradient ∇C. \n",
        "When $μ = 0$  are there an maximum of friction. \n",
        "\n",
        "If $μ<0$, it would correspond to the there is above 100% friction, and thereby push the gradient backwards - which will be numerical nonsense for the point of momentum \n",
        "\n",
        "Opoosite if $μ>0$ will there be a negative friction. and thereby will the velcotity not only be driven by the gradient, but also an extra push - which again will be numerical nonsense. \n",
        "\n",
        "\n",
        "\n",
        "\n"
      ]
    }
  ]
}